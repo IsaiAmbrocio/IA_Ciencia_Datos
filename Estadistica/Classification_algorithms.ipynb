{
 "cells": [
  {
   "cell_type": "markdown",
   "id": "64949f1b-2365-4c77-bd30-0d85955671ac",
   "metadata": {},
   "source": [
    "# Classification algorithms"
   ]
  },
  {
   "cell_type": "markdown",
   "id": "003e01c0-5f97-4408-977d-fffd3d2f7428",
   "metadata": {},
   "source": [
    "## Isai Ambrocio - A01625101"
   ]
  },
  {
   "cell_type": "code",
   "execution_count": 2,
   "id": "a614453f-bf48-4768-86b3-158b35c5c2f2",
   "metadata": {},
   "outputs": [
    {
     "ename": "ModuleNotFoundError",
     "evalue": "No module named 'sklearn'",
     "output_type": "error",
     "traceback": [
      "\u001b[0;31m---------------------------------------------------------------------------\u001b[0m",
      "\u001b[0;31mModuleNotFoundError\u001b[0m                       Traceback (most recent call last)",
      "Cell \u001b[0;32mIn[2], line 1\u001b[0m\n\u001b[0;32m----> 1\u001b[0m \u001b[38;5;28;01mimport\u001b[39;00m \u001b[38;5;21;01msklearn\u001b[39;00m\n",
      "\u001b[0;31mModuleNotFoundError\u001b[0m: No module named 'sklearn'"
     ]
    }
   ],
   "source": [
    "import sklearn"
   ]
  },
  {
   "cell_type": "code",
   "execution_count": 1,
   "id": "ff68de4b-bcde-4884-b7aa-144b31d12e49",
   "metadata": {},
   "outputs": [
    {
     "ename": "ModuleNotFoundError",
     "evalue": "No module named 'sklearn'",
     "output_type": "error",
     "traceback": [
      "\u001b[0;31m---------------------------------------------------------------------------\u001b[0m",
      "\u001b[0;31mModuleNotFoundError\u001b[0m                       Traceback (most recent call last)",
      "Cell \u001b[0;32mIn[1], line 3\u001b[0m\n\u001b[1;32m      1\u001b[0m \u001b[38;5;28;01mimport\u001b[39;00m \u001b[38;5;21;01mpandas\u001b[39;00m \u001b[38;5;28;01mas\u001b[39;00m \u001b[38;5;21;01mpd\u001b[39;00m\n\u001b[1;32m      2\u001b[0m \u001b[38;5;28;01mimport\u001b[39;00m \u001b[38;5;21;01mmatplotlib\u001b[39;00m\u001b[38;5;21;01m.\u001b[39;00m\u001b[38;5;21;01mpyplot\u001b[39;00m \u001b[38;5;28;01mas\u001b[39;00m \u001b[38;5;21;01mplt\u001b[39;00m\n\u001b[0;32m----> 3\u001b[0m \u001b[38;5;28;01mfrom\u001b[39;00m \u001b[38;5;21;01msklearn\u001b[39;00m\u001b[38;5;21;01m.\u001b[39;00m\u001b[38;5;21;01mmodel_selection\u001b[39;00m \u001b[38;5;28;01mimport\u001b[39;00m train_test_split\n",
      "\u001b[0;31mModuleNotFoundError\u001b[0m: No module named 'sklearn'"
     ]
    }
   ],
   "source": [
    "import pandas as pd\n",
    "import matplotlib.pyplot as plt\n",
    "from sklearn.model_selection import train_test_split"
   ]
  },
  {
   "cell_type": "code",
   "execution_count": null,
   "id": "45e450be-19e8-41fd-9c2f-fc4e98ca96b5",
   "metadata": {},
   "outputs": [],
   "source": [
    "df = pd.read_csv(\"/Users/isaiambrocio/Documents/Concentracion en IA/Estadistica/Iris.csv\")"
   ]
  },
  {
   "cell_type": "code",
   "execution_count": null,
   "id": "f6eb1995-ff35-4b01-9858-c0739fb9f67a",
   "metadata": {},
   "outputs": [],
   "source": [
    "df.head()"
   ]
  },
  {
   "cell_type": "code",
   "execution_count": null,
   "id": "6875fcc1-c28b-4732-9bb8-30a6590fa877",
   "metadata": {},
   "outputs": [],
   "source": [
    "df.drop([\"Id\"], axis = 1, inplace=True)"
   ]
  },
  {
   "cell_type": "code",
   "execution_count": null,
   "id": "a7fe9b91-58e7-4c72-b4f6-78bc24777927",
   "metadata": {},
   "outputs": [],
   "source": [
    "categories = dict(zip(set(df.Species), range(3)))\n",
    "categories"
   ]
  },
  {
   "cell_type": "code",
   "execution_count": null,
   "id": "d4aa4bcc-5d6f-4208-a1ca-ade39d41d08d",
   "metadata": {},
   "outputs": [],
   "source": [
    "species_num = df.Species.map(lambda x: categories[x])\n",
    "species_num.head()"
   ]
  },
  {
   "cell_type": "markdown",
   "id": "33ba9092-d955-4c0c-b8c3-f9ee4170b534",
   "metadata": {},
   "source": [
    "### Regresión Logística "
   ]
  },
  {
   "cell_type": "code",
   "execution_count": null,
   "id": "5eb81d24-9a12-44ae-9a91-b65628671a97",
   "metadata": {},
   "outputs": [],
   "source": [
    "setosa = df[df.Species == \"Iris-setosa\"]\n",
    "versicolor = df[df.Species == \"Iris-versicolor\"]\n",
    "virginica = df[df.Species == \"Iris-virginica\"]"
   ]
  },
  {
   "cell_type": "code",
   "execution_count": null,
   "id": "3da44941-d16c-42b8-b3a6-7e38df6bd42f",
   "metadata": {
    "scrolled": true
   },
   "outputs": [],
   "source": [
    "setosa"
   ]
  },
  {
   "cell_type": "code",
   "execution_count": null,
   "id": "cd20056f-5d79-4dfd-8750-124c1f6e16cc",
   "metadata": {
    "scrolled": true
   },
   "outputs": [],
   "source": [
    "versicolor"
   ]
  },
  {
   "cell_type": "code",
   "execution_count": null,
   "id": "18b269ee-8ef1-46dc-bde4-b90a2877329a",
   "metadata": {},
   "outputs": [],
   "source": [
    "virginica.head()"
   ]
  },
  {
   "cell_type": "code",
   "execution_count": null,
   "id": "bd15626c-14c9-4ee5-b267-4c0dfede0887",
   "metadata": {},
   "outputs": [],
   "source": [
    "fig, axes = plt.subplots(3, 2, figsize=(12, 8))\n",
    "fig.tight_layout(h_pad=4)\n",
    "fig.suptitle(\"\")\n",
    "\n",
    "for i, iris in enumerate([setosa, versicolor, virginica]):\n",
    "    axes[i][0].set_title(f\"{iris.iloc[0, -1].capitalize()}\")\n",
    "    axes[i][0].scatter(iris.SepalLengthCm, iris.SepalWidthCm)\n",
    "    axes[i][0].set_ylabel(\"Sepal Width\")\n",
    "    axes[i][0].set_xlabel(\"Sepal Length\")\n",
    "\n",
    "    \n",
    "    axes[i][1].set_title(f\"{iris.iloc[0, -1].capitalize()}\")\n",
    "    axes[i][1].scatter(iris.PetalLengthCm, iris.PetalWidthCm)\n",
    "    axes[i][1].set_ylabel(\"Petal Width\")\n",
    "    axes[i][1].set_xlabel(\"Petal Length\")"
   ]
  },
  {
   "cell_type": "code",
   "execution_count": null,
   "id": "32eeb782-4dd1-4676-aaa2-36fda152a02f",
   "metadata": {},
   "outputs": [],
   "source": [
    "\n",
    "    \n",
    "\n",
    "plt.title(\"Setosa, Versicolor & Virginica\")\n",
    "plt.xlabel(\"Sepal Length\")\n",
    "plt.ylabel(\"Sepal Width\")\n",
    "plt.scatter(setosa.SepalLengthCm,setosa.SepalWidthCm, color='red',label = \"Setosa\", alpha = 0.5)\n",
    "plt.scatter(versicolor.SepalLengthCm, versicolor.SepalWidthCm, color = \"blue\",label = \"Versicolor\", alpha = 0.5)\n",
    "plt.scatter(virginica.SepalLengthCm, virginica.SepalWidthCm, color = \"orange\",label = \"Virginica\", alpha = 0.5)\n",
    "plt.legend()\n",
    "plt.show()"
   ]
  },
  {
   "cell_type": "code",
   "execution_count": null,
   "id": "69db2c03-506c-4714-9eac-ab0a3ffd80b3",
   "metadata": {},
   "outputs": [],
   "source": [
    "X = df.iloc[:, :-1].values\n",
    "y = df.iloc[:, -1]"
   ]
  },
  {
   "cell_type": "code",
   "execution_count": null,
   "id": "0c06ecf1-8245-490d-a75e-dc5a031e5239",
   "metadata": {},
   "outputs": [],
   "source": [
    "\n",
    "X_train, X_test, y_train, y_test=train_test_split(X,y,test_size=0.2,random_state=42)"
   ]
  },
  {
   "cell_type": "markdown",
   "id": "70cbb69e-5bc6-4664-a8a5-9ab60cfaa474",
   "metadata": {},
   "source": [
    "### Bayes "
   ]
  },
  {
   "cell_type": "code",
   "execution_count": null,
   "id": "02a64571-6f1f-414a-8395-1f0200f58eed",
   "metadata": {},
   "outputs": [],
   "source": []
  },
  {
   "cell_type": "markdown",
   "id": "c4b178f5-0a3c-4f24-9cb7-7d5aebb20c27",
   "metadata": {},
   "source": [
    "### Análisis de discriminate"
   ]
  },
  {
   "cell_type": "code",
   "execution_count": null,
   "id": "39193cf9-42ed-4120-ac42-4f8be7ab1ea4",
   "metadata": {},
   "outputs": [],
   "source": []
  },
  {
   "cell_type": "markdown",
   "id": "4d6a0194-0174-43a3-a4e9-09afe38cf3cf",
   "metadata": {},
   "source": [
    "## Isai Ambrocio - A01625101"
   ]
  }
 ],
 "metadata": {
  "kernelspec": {
   "display_name": "Python 3 (ipykernel)",
   "language": "python",
   "name": "python3"
  },
  "language_info": {
   "codemirror_mode": {
    "name": "ipython",
    "version": 3
   },
   "file_extension": ".py",
   "mimetype": "text/x-python",
   "name": "python",
   "nbconvert_exporter": "python",
   "pygments_lexer": "ipython3",
   "version": "3.11.4"
  }
 },
 "nbformat": 4,
 "nbformat_minor": 5
}
