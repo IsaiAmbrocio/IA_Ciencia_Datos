{
  "nbformat": 4,
  "nbformat_minor": 0,
  "metadata": {
    "colab": {
      "provenance": []
    },
    "kernelspec": {
      "name": "python3",
      "display_name": "Python 3"
    },
    "language_info": {
      "name": "python"
    }
  },
  "cells": [
    {
      "cell_type": "markdown",
      "source": [
        "# Actividad: Ajuste de redes neuronales\n"
      ],
      "metadata": {
        "id": "2BjIxNe7DPPD"
      }
    },
    {
      "cell_type": "markdown",
      "source": [
        "Mi nombre es **Isai Ambrocio** con matrícula **A01625101** con lo cual me corresponde: Variable dependiente VR, variables independientes M, W, H y S."
      ],
      "metadata": {
        "id": "Ma8TesrDEGPS"
      }
    },
    {
      "cell_type": "code",
      "execution_count": 2,
      "metadata": {
        "id": "Y32XwgBfDNrE"
      },
      "outputs": [],
      "source": [
        "import pandas as pd\n",
        "import numpy as np\n",
        "from sklearn.neural_network import MLPRegressor, MLPClassifier\n",
        "from sklearn.model_selection import cross_val_score, GridSearchCV, train_test_split\n",
        "from sklearn.preprocessing import PolynomialFeatures\n",
        "from sklearn.pipeline import make_pipeline"
      ]
    },
    {
      "cell_type": "markdown",
      "source": [
        "## Problema 1"
      ],
      "metadata": {
        "id": "dw4ccUTIQjGZ"
      }
    },
    {
      "cell_type": "code",
      "source": [
        "df = pd.read_csv(\"/content/crime_data.csv\")"
      ],
      "metadata": {
        "id": "Nd9Fc7Z1Dehn"
      },
      "execution_count": 3,
      "outputs": []
    },
    {
      "cell_type": "code",
      "source": [
        "df.head()"
      ],
      "metadata": {
        "colab": {
          "base_uri": "https://localhost:8080/",
          "height": 204
        },
        "id": "OrxHuRTpD0M6",
        "outputId": "b8649835-cca6-47e3-bb78-70b46ed07cda"
      },
      "execution_count": 4,
      "outputs": [
        {
          "output_type": "execute_result",
          "data": {
            "text/plain": [
              "  State    VR    MR     M     W     H     P     S\n",
              "0    AK   761   9.0  41.8  75.2  86.6   9.1  14.3\n",
              "1    AL   780  11.6  67.4  73.5  66.9  17.4  11.5\n",
              "2    AR   593  10.2  44.7  82.9  66.3  20.0  10.7\n",
              "3    AZ   715   8.6  84.7  88.6  78.7  15.4  12.1\n",
              "4    CA  1078  13.1  96.7  79.3  76.2  18.2  12.5"
            ],
            "text/html": [
              "\n",
              "  <div id=\"df-8895afe0-a695-438e-9f01-d2bb32d0db64\" class=\"colab-df-container\">\n",
              "    <div>\n",
              "<style scoped>\n",
              "    .dataframe tbody tr th:only-of-type {\n",
              "        vertical-align: middle;\n",
              "    }\n",
              "\n",
              "    .dataframe tbody tr th {\n",
              "        vertical-align: top;\n",
              "    }\n",
              "\n",
              "    .dataframe thead th {\n",
              "        text-align: right;\n",
              "    }\n",
              "</style>\n",
              "<table border=\"1\" class=\"dataframe\">\n",
              "  <thead>\n",
              "    <tr style=\"text-align: right;\">\n",
              "      <th></th>\n",
              "      <th>State</th>\n",
              "      <th>VR</th>\n",
              "      <th>MR</th>\n",
              "      <th>M</th>\n",
              "      <th>W</th>\n",
              "      <th>H</th>\n",
              "      <th>P</th>\n",
              "      <th>S</th>\n",
              "    </tr>\n",
              "  </thead>\n",
              "  <tbody>\n",
              "    <tr>\n",
              "      <th>0</th>\n",
              "      <td>AK</td>\n",
              "      <td>761</td>\n",
              "      <td>9.0</td>\n",
              "      <td>41.8</td>\n",
              "      <td>75.2</td>\n",
              "      <td>86.6</td>\n",
              "      <td>9.1</td>\n",
              "      <td>14.3</td>\n",
              "    </tr>\n",
              "    <tr>\n",
              "      <th>1</th>\n",
              "      <td>AL</td>\n",
              "      <td>780</td>\n",
              "      <td>11.6</td>\n",
              "      <td>67.4</td>\n",
              "      <td>73.5</td>\n",
              "      <td>66.9</td>\n",
              "      <td>17.4</td>\n",
              "      <td>11.5</td>\n",
              "    </tr>\n",
              "    <tr>\n",
              "      <th>2</th>\n",
              "      <td>AR</td>\n",
              "      <td>593</td>\n",
              "      <td>10.2</td>\n",
              "      <td>44.7</td>\n",
              "      <td>82.9</td>\n",
              "      <td>66.3</td>\n",
              "      <td>20.0</td>\n",
              "      <td>10.7</td>\n",
              "    </tr>\n",
              "    <tr>\n",
              "      <th>3</th>\n",
              "      <td>AZ</td>\n",
              "      <td>715</td>\n",
              "      <td>8.6</td>\n",
              "      <td>84.7</td>\n",
              "      <td>88.6</td>\n",
              "      <td>78.7</td>\n",
              "      <td>15.4</td>\n",
              "      <td>12.1</td>\n",
              "    </tr>\n",
              "    <tr>\n",
              "      <th>4</th>\n",
              "      <td>CA</td>\n",
              "      <td>1078</td>\n",
              "      <td>13.1</td>\n",
              "      <td>96.7</td>\n",
              "      <td>79.3</td>\n",
              "      <td>76.2</td>\n",
              "      <td>18.2</td>\n",
              "      <td>12.5</td>\n",
              "    </tr>\n",
              "  </tbody>\n",
              "</table>\n",
              "</div>\n",
              "    <div class=\"colab-df-buttons\">\n",
              "\n",
              "  <div class=\"colab-df-container\">\n",
              "    <button class=\"colab-df-convert\" onclick=\"convertToInteractive('df-8895afe0-a695-438e-9f01-d2bb32d0db64')\"\n",
              "            title=\"Convert this dataframe to an interactive table.\"\n",
              "            style=\"display:none;\">\n",
              "\n",
              "  <svg xmlns=\"http://www.w3.org/2000/svg\" height=\"24px\" viewBox=\"0 -960 960 960\">\n",
              "    <path d=\"M120-120v-720h720v720H120Zm60-500h600v-160H180v160Zm220 220h160v-160H400v160Zm0 220h160v-160H400v160ZM180-400h160v-160H180v160Zm440 0h160v-160H620v160ZM180-180h160v-160H180v160Zm440 0h160v-160H620v160Z\"/>\n",
              "  </svg>\n",
              "    </button>\n",
              "\n",
              "  <style>\n",
              "    .colab-df-container {\n",
              "      display:flex;\n",
              "      gap: 12px;\n",
              "    }\n",
              "\n",
              "    .colab-df-convert {\n",
              "      background-color: #E8F0FE;\n",
              "      border: none;\n",
              "      border-radius: 50%;\n",
              "      cursor: pointer;\n",
              "      display: none;\n",
              "      fill: #1967D2;\n",
              "      height: 32px;\n",
              "      padding: 0 0 0 0;\n",
              "      width: 32px;\n",
              "    }\n",
              "\n",
              "    .colab-df-convert:hover {\n",
              "      background-color: #E2EBFA;\n",
              "      box-shadow: 0px 1px 2px rgba(60, 64, 67, 0.3), 0px 1px 3px 1px rgba(60, 64, 67, 0.15);\n",
              "      fill: #174EA6;\n",
              "    }\n",
              "\n",
              "    .colab-df-buttons div {\n",
              "      margin-bottom: 4px;\n",
              "    }\n",
              "\n",
              "    [theme=dark] .colab-df-convert {\n",
              "      background-color: #3B4455;\n",
              "      fill: #D2E3FC;\n",
              "    }\n",
              "\n",
              "    [theme=dark] .colab-df-convert:hover {\n",
              "      background-color: #434B5C;\n",
              "      box-shadow: 0px 1px 3px 1px rgba(0, 0, 0, 0.15);\n",
              "      filter: drop-shadow(0px 1px 2px rgba(0, 0, 0, 0.3));\n",
              "      fill: #FFFFFF;\n",
              "    }\n",
              "  </style>\n",
              "\n",
              "    <script>\n",
              "      const buttonEl =\n",
              "        document.querySelector('#df-8895afe0-a695-438e-9f01-d2bb32d0db64 button.colab-df-convert');\n",
              "      buttonEl.style.display =\n",
              "        google.colab.kernel.accessAllowed ? 'block' : 'none';\n",
              "\n",
              "      async function convertToInteractive(key) {\n",
              "        const element = document.querySelector('#df-8895afe0-a695-438e-9f01-d2bb32d0db64');\n",
              "        const dataTable =\n",
              "          await google.colab.kernel.invokeFunction('convertToInteractive',\n",
              "                                                    [key], {});\n",
              "        if (!dataTable) return;\n",
              "\n",
              "        const docLinkHtml = 'Like what you see? Visit the ' +\n",
              "          '<a target=\"_blank\" href=https://colab.research.google.com/notebooks/data_table.ipynb>data table notebook</a>'\n",
              "          + ' to learn more about interactive tables.';\n",
              "        element.innerHTML = '';\n",
              "        dataTable['output_type'] = 'display_data';\n",
              "        await google.colab.output.renderOutput(dataTable, element);\n",
              "        const docLink = document.createElement('div');\n",
              "        docLink.innerHTML = docLinkHtml;\n",
              "        element.appendChild(docLink);\n",
              "      }\n",
              "    </script>\n",
              "  </div>\n",
              "\n",
              "\n",
              "<div id=\"df-cfde4d64-0a27-48a3-8e7d-3c341e515c1b\">\n",
              "  <button class=\"colab-df-quickchart\" onclick=\"quickchart('df-cfde4d64-0a27-48a3-8e7d-3c341e515c1b')\"\n",
              "            title=\"Suggest charts.\"\n",
              "            style=\"display:none;\">\n",
              "\n",
              "<svg xmlns=\"http://www.w3.org/2000/svg\" height=\"24px\"viewBox=\"0 0 24 24\"\n",
              "     width=\"24px\">\n",
              "    <g>\n",
              "        <path d=\"M19 3H5c-1.1 0-2 .9-2 2v14c0 1.1.9 2 2 2h14c1.1 0 2-.9 2-2V5c0-1.1-.9-2-2-2zM9 17H7v-7h2v7zm4 0h-2V7h2v10zm4 0h-2v-4h2v4z\"/>\n",
              "    </g>\n",
              "</svg>\n",
              "  </button>\n",
              "\n",
              "<style>\n",
              "  .colab-df-quickchart {\n",
              "      --bg-color: #E8F0FE;\n",
              "      --fill-color: #1967D2;\n",
              "      --hover-bg-color: #E2EBFA;\n",
              "      --hover-fill-color: #174EA6;\n",
              "      --disabled-fill-color: #AAA;\n",
              "      --disabled-bg-color: #DDD;\n",
              "  }\n",
              "\n",
              "  [theme=dark] .colab-df-quickchart {\n",
              "      --bg-color: #3B4455;\n",
              "      --fill-color: #D2E3FC;\n",
              "      --hover-bg-color: #434B5C;\n",
              "      --hover-fill-color: #FFFFFF;\n",
              "      --disabled-bg-color: #3B4455;\n",
              "      --disabled-fill-color: #666;\n",
              "  }\n",
              "\n",
              "  .colab-df-quickchart {\n",
              "    background-color: var(--bg-color);\n",
              "    border: none;\n",
              "    border-radius: 50%;\n",
              "    cursor: pointer;\n",
              "    display: none;\n",
              "    fill: var(--fill-color);\n",
              "    height: 32px;\n",
              "    padding: 0;\n",
              "    width: 32px;\n",
              "  }\n",
              "\n",
              "  .colab-df-quickchart:hover {\n",
              "    background-color: var(--hover-bg-color);\n",
              "    box-shadow: 0 1px 2px rgba(60, 64, 67, 0.3), 0 1px 3px 1px rgba(60, 64, 67, 0.15);\n",
              "    fill: var(--button-hover-fill-color);\n",
              "  }\n",
              "\n",
              "  .colab-df-quickchart-complete:disabled,\n",
              "  .colab-df-quickchart-complete:disabled:hover {\n",
              "    background-color: var(--disabled-bg-color);\n",
              "    fill: var(--disabled-fill-color);\n",
              "    box-shadow: none;\n",
              "  }\n",
              "\n",
              "  .colab-df-spinner {\n",
              "    border: 2px solid var(--fill-color);\n",
              "    border-color: transparent;\n",
              "    border-bottom-color: var(--fill-color);\n",
              "    animation:\n",
              "      spin 1s steps(1) infinite;\n",
              "  }\n",
              "\n",
              "  @keyframes spin {\n",
              "    0% {\n",
              "      border-color: transparent;\n",
              "      border-bottom-color: var(--fill-color);\n",
              "      border-left-color: var(--fill-color);\n",
              "    }\n",
              "    20% {\n",
              "      border-color: transparent;\n",
              "      border-left-color: var(--fill-color);\n",
              "      border-top-color: var(--fill-color);\n",
              "    }\n",
              "    30% {\n",
              "      border-color: transparent;\n",
              "      border-left-color: var(--fill-color);\n",
              "      border-top-color: var(--fill-color);\n",
              "      border-right-color: var(--fill-color);\n",
              "    }\n",
              "    40% {\n",
              "      border-color: transparent;\n",
              "      border-right-color: var(--fill-color);\n",
              "      border-top-color: var(--fill-color);\n",
              "    }\n",
              "    60% {\n",
              "      border-color: transparent;\n",
              "      border-right-color: var(--fill-color);\n",
              "    }\n",
              "    80% {\n",
              "      border-color: transparent;\n",
              "      border-right-color: var(--fill-color);\n",
              "      border-bottom-color: var(--fill-color);\n",
              "    }\n",
              "    90% {\n",
              "      border-color: transparent;\n",
              "      border-bottom-color: var(--fill-color);\n",
              "    }\n",
              "  }\n",
              "</style>\n",
              "\n",
              "  <script>\n",
              "    async function quickchart(key) {\n",
              "      const quickchartButtonEl =\n",
              "        document.querySelector('#' + key + ' button');\n",
              "      quickchartButtonEl.disabled = true;  // To prevent multiple clicks.\n",
              "      quickchartButtonEl.classList.add('colab-df-spinner');\n",
              "      try {\n",
              "        const charts = await google.colab.kernel.invokeFunction(\n",
              "            'suggestCharts', [key], {});\n",
              "      } catch (error) {\n",
              "        console.error('Error during call to suggestCharts:', error);\n",
              "      }\n",
              "      quickchartButtonEl.classList.remove('colab-df-spinner');\n",
              "      quickchartButtonEl.classList.add('colab-df-quickchart-complete');\n",
              "    }\n",
              "    (() => {\n",
              "      let quickchartButtonEl =\n",
              "        document.querySelector('#df-cfde4d64-0a27-48a3-8e7d-3c341e515c1b button');\n",
              "      quickchartButtonEl.style.display =\n",
              "        google.colab.kernel.accessAllowed ? 'block' : 'none';\n",
              "    })();\n",
              "  </script>\n",
              "</div>\n",
              "    </div>\n",
              "  </div>\n"
            ]
          },
          "metadata": {},
          "execution_count": 4
        }
      ]
    },
    {
      "cell_type": "code",
      "source": [
        "df.isna().sum()"
      ],
      "metadata": {
        "colab": {
          "base_uri": "https://localhost:8080/"
        },
        "id": "AXsy3OhUFjIe",
        "outputId": "1bdddf6a-8f33-4116-ca7c-0d094504f969"
      },
      "execution_count": 5,
      "outputs": [
        {
          "output_type": "execute_result",
          "data": {
            "text/plain": [
              "State    0\n",
              "VR       0\n",
              "MR       0\n",
              "M        0\n",
              "W        0\n",
              "H        0\n",
              "P        0\n",
              "S        0\n",
              "dtype: int64"
            ]
          },
          "metadata": {},
          "execution_count": 5
        }
      ]
    },
    {
      "cell_type": "code",
      "source": [
        "columnas_a_mantener = [\"M\", \"W\", \"H\", \"S\"]\n",
        "X_original = df[columnas_a_mantener]\n",
        "y = df[\"VR\"]"
      ],
      "metadata": {
        "id": "twtDTDxGFp5g"
      },
      "execution_count": 6,
      "outputs": []
    },
    {
      "cell_type": "markdown",
      "source": [
        "#### 1. Evalúa con validación cruzada un modelo pereceptrón multicapa para las variables que se te asignaron para este ejercicio."
      ],
      "metadata": {
        "id": "rIYriCuvNBAE"
      }
    },
    {
      "cell_type": "code",
      "source": [
        "mlp_model = MLPRegressor(random_state=1, max_iter=1000)"
      ],
      "metadata": {
        "id": "WRVogFf9NLLs"
      },
      "execution_count": 7,
      "outputs": []
    },
    {
      "cell_type": "markdown",
      "source": [
        "Validación cruzada."
      ],
      "metadata": {
        "id": "-mdf5LBpNOoy"
      }
    },
    {
      "cell_type": "code",
      "source": [
        "scores = cross_val_score(mlp_model, X_original, y,\n",
        "                         cv=5, scoring=\"neg_mean_squared_error\")"
      ],
      "metadata": {
        "id": "s2I-DRV_NV94"
      },
      "execution_count": null,
      "outputs": []
    },
    {
      "cell_type": "code",
      "source": [
        "mse_mean = -scores.mean()\n",
        "print(\"Error cuadrático medio promedio (Originales):\", mse_mean)"
      ],
      "metadata": {
        "colab": {
          "base_uri": "https://localhost:8080/"
        },
        "id": "D5tmWRrmF57A",
        "outputId": "09e56057-e95b-4293-bbaf-afb6e262b835"
      },
      "execution_count": 10,
      "outputs": [
        {
          "output_type": "stream",
          "name": "stdout",
          "text": [
            "Error cuadrático medio promedio (Originales): 139813.3065454982\n"
          ]
        }
      ]
    },
    {
      "cell_type": "markdown",
      "source": [
        "#### 2. Agrega al conjunto de datos columnas que representen los cuadrados de las variables predictoras (por ejemplo, M2, W2), así como los productos entre pares de variables (por ejemplo, PxS, MxW). Evalúa un modelo perceptrón multicapa para este nuevo conjunto de datos."
      ],
      "metadata": {
        "id": "iUp-WQuYNkKJ"
      }
    },
    {
      "cell_type": "code",
      "source": [
        "poly = PolynomialFeatures(degree=2, include_bias=False)\n",
        "X_extended = poly.fit_transform(X_original)"
      ],
      "metadata": {
        "id": "KhC3CGJlN0hR"
      },
      "execution_count": 11,
      "outputs": []
    },
    {
      "cell_type": "code",
      "source": [
        "mlp_model_extended = MLPRegressor(random_state=1, max_iter=1000)"
      ],
      "metadata": {
        "id": "JnX4NpwRN42r"
      },
      "execution_count": 12,
      "outputs": []
    },
    {
      "cell_type": "markdown",
      "source": [
        "Validación cruzada."
      ],
      "metadata": {
        "id": "xZPX-EanOBb6"
      }
    },
    {
      "cell_type": "code",
      "source": [
        "scores_extended = cross_val_score(mlp_model_extended, X_extended, y, cv=5,\n",
        "                                  scoring=\"neg_mean_squared_error\")"
      ],
      "metadata": {
        "id": "B5Jm_Uh7N-bi"
      },
      "execution_count": 13,
      "outputs": []
    },
    {
      "cell_type": "code",
      "source": [
        "mse_mean_extended = -scores_extended.mean()\n",
        "print(\"Error cuadrático medio promedio (Ejercicio 2):\", mse_mean_extended)"
      ],
      "metadata": {
        "colab": {
          "base_uri": "https://localhost:8080/"
        },
        "id": "c1HlDjMBJmE5",
        "outputId": "b2a4fcbd-aeb0-4fd2-b188-f7fd1efc51ad"
      },
      "execution_count": 14,
      "outputs": [
        {
          "output_type": "stream",
          "name": "stdout",
          "text": [
            "Error cuadrático medio promedio (Ejercicio 2): 108633.82545056226\n"
          ]
        }
      ]
    },
    {
      "cell_type": "markdown",
      "source": [
        "**¿Consideras que el modelo perceptrón multicapa es efectivo para modelar los datos del problema? ¿Por qué?**\n",
        "\n",
        "El MLP parece ser efectivo para modelar los datos del problema, ya que tiene un error cuadrático medio promedio (MSE) más bajo en comparación con el modelo lineal utilizado en el ejercicio 1.\n",
        "\n",
        "Un MSE promedio de 108633.83 en el ejercicio 2 indica que el MLP con variables predictoras extendidas tiene un rendimiento relativamente mejor que el modelo lineal con variables predictoras originales, que tiene un MSE promedio de 139813.31 en el ejercicio 1."
      ],
      "metadata": {
        "id": "Es3heT_KPC5O"
      }
    },
    {
      "cell_type": "markdown",
      "source": [
        "**¿Qué modelo es mejor para los datos de criminalidad, el lineal o el perceptrón multicapa? ¿Por qué?**\n",
        "\n",
        "El modelo MLP con variables predictoras extendidas (Ejercicio 2) parece ser mejor para los datos de criminalidad en comparación con el modelo lineal (Ejercicio 1). Esto se debe a que el modelo MLP es más flexible y puede capturar relaciones no lineales entre las variables predictoras y la variable dependiente.\n",
        "\n",
        "Al agregar cuadrados de variables y productos entre pares de variables, el MLP puede aprender patrones más complejos en los datos, lo que conduce a un MSE promedio más bajo. Por lo tanto, en este contexto, el MLP es preferible al modelo lineal para modelar la relación entre las variables predictoras y la tasa de criminalidad."
      ],
      "metadata": {
        "id": "LsJmpX60Ppk8"
      }
    },
    {
      "cell_type": "markdown",
      "source": [
        "## Problema 2"
      ],
      "metadata": {
        "id": "NmfPSPRcQwMv"
      }
    },
    {
      "cell_type": "markdown",
      "source": [
        "Cargamos los datos"
      ],
      "metadata": {
        "id": "z-Bsyu2ESzLO"
      }
    },
    {
      "cell_type": "code",
      "source": [
        "data = np.loadtxt(\"M_1.txt\")"
      ],
      "metadata": {
        "id": "IaLNBsJlTdTu"
      },
      "execution_count": 15,
      "outputs": []
    },
    {
      "cell_type": "code",
      "source": [
        "data"
      ],
      "metadata": {
        "id": "yD0hwNECTfvl"
      },
      "execution_count": null,
      "outputs": []
    },
    {
      "cell_type": "code",
      "source": [
        "X = data[:, 1:]\n",
        "y = data[:, 0]"
      ],
      "metadata": {
        "id": "AZKnpc_tS2o9"
      },
      "execution_count": 17,
      "outputs": []
    },
    {
      "cell_type": "markdown",
      "source": [
        "1. Evalúa un modelo perceptrón multicapa con validación cruzada utilizando al menos 5 capas de 20 neuronas."
      ],
      "metadata": {
        "id": "jrden01CTAwA"
      }
    },
    {
      "cell_type": "code",
      "source": [
        "mlp_model_1 = MLPClassifier(hidden_layer_sizes=(20, 20, 20, 20, 20), random_state=1)"
      ],
      "metadata": {
        "id": "giO-2SgpTKN9"
      },
      "execution_count": 18,
      "outputs": []
    },
    {
      "cell_type": "markdown",
      "source": [
        "Realizamos validación cruzada"
      ],
      "metadata": {
        "id": "A3QW_UCgTNzs"
      }
    },
    {
      "cell_type": "code",
      "source": [
        "scores_1 = cross_val_score(mlp_model_1, X, y, cv=5)"
      ],
      "metadata": {
        "id": "niQSV77ETXc2"
      },
      "execution_count": 19,
      "outputs": []
    },
    {
      "cell_type": "code",
      "source": [
        "accuracy_mean_1 = scores_1.mean()\n",
        "print(\"Precisión promedio (Paso 1):\", accuracy_mean_1)"
      ],
      "metadata": {
        "id": "9uwNfLjV6q-1"
      },
      "execution_count": null,
      "outputs": []
    },
    {
      "cell_type": "markdown",
      "source": [
        "2. Evalúa un modelo perceptrón multicapa con validación cruzada, pero encontrando el número óptimo de capas y neuronas de la red."
      ],
      "metadata": {
        "id": "AEHuEm4Y69ir"
      }
    },
    {
      "cell_type": "code",
      "source": [
        "param_grid = {\n",
        "    \"hidden_layer_sizes\": [(20, 20), (30, 30), (40, 40), (50, 50)],\n",
        "}"
      ],
      "metadata": {
        "id": "4ef1J-AB6upZ"
      },
      "execution_count": 20,
      "outputs": []
    },
    {
      "cell_type": "code",
      "source": [
        "mlp_model_2 = MLPClassifier(random_state=1)\n",
        "\n",
        "grid_search = GridSearchCV(mlp_model_2, param_grid, cv=5, scoring=\"accuracy\")\n",
        "grid_search.fit(X, y)"
      ],
      "metadata": {
        "id": "DVqDAV2w6vAf"
      },
      "execution_count": null,
      "outputs": []
    },
    {
      "cell_type": "markdown",
      "source": [
        "Mejores hiperparametros"
      ],
      "metadata": {
        "id": "2uAgez2L71It"
      }
    },
    {
      "cell_type": "code",
      "source": [
        "best_params = grid_search.best_params_\n",
        "print(\"Mejores hiperparámetros (Paso 2):\", best_params)"
      ],
      "metadata": {
        "colab": {
          "base_uri": "https://localhost:8080/"
        },
        "id": "8E5b5rWs7Oxc",
        "outputId": "9b4b5f9e-49d9-4e96-c1ed-be3f77455af7"
      },
      "execution_count": 23,
      "outputs": [
        {
          "output_type": "stream",
          "name": "stdout",
          "text": [
            "Mejores hiperparámetros (Paso 2): {'hidden_layer_sizes': (40, 40)}\n"
          ]
        }
      ]
    },
    {
      "cell_type": "markdown",
      "source": [
        "3. Prepara el modelo perceptrón multicapa:\n",
        "Opten los hiperparámetros óptimos de capas y neuronas de la red.\n",
        "Con los hiperparámetros óptimos, ajusta el modelo con todos los datos."
      ],
      "metadata": {
        "id": "O5bZJyOc7_ZA"
      }
    },
    {
      "cell_type": "code",
      "source": [
        "best_hidden_layer_sizes = best_params['hidden_layer_sizes']\n",
        "mlp_model_final = MLPClassifier(hidden_layer_sizes=best_hidden_layer_sizes,\n",
        "                                random_state=1)"
      ],
      "metadata": {
        "id": "YyZuk-hqQ2Ro"
      },
      "execution_count": 25,
      "outputs": []
    },
    {
      "cell_type": "markdown",
      "source": [
        " Ajustamos el modelo con todos los datos"
      ],
      "metadata": {
        "id": "rN3UoswD8S2P"
      }
    },
    {
      "cell_type": "code",
      "source": [
        "mlp_model_final.fit(X, y)"
      ],
      "metadata": {
        "colab": {
          "base_uri": "https://localhost:8080/",
          "height": 74
        },
        "id": "XXrXoVq_8KJc",
        "outputId": "a9d6ef2c-45c7-45d5-e1b5-87f30f8fb905"
      },
      "execution_count": 26,
      "outputs": [
        {
          "output_type": "execute_result",
          "data": {
            "text/plain": [
              "MLPClassifier(hidden_layer_sizes=(40, 40), random_state=1)"
            ],
            "text/html": [
              "<style>#sk-container-id-3 {color: black;background-color: white;}#sk-container-id-3 pre{padding: 0;}#sk-container-id-3 div.sk-toggleable {background-color: white;}#sk-container-id-3 label.sk-toggleable__label {cursor: pointer;display: block;width: 100%;margin-bottom: 0;padding: 0.3em;box-sizing: border-box;text-align: center;}#sk-container-id-3 label.sk-toggleable__label-arrow:before {content: \"▸\";float: left;margin-right: 0.25em;color: #696969;}#sk-container-id-3 label.sk-toggleable__label-arrow:hover:before {color: black;}#sk-container-id-3 div.sk-estimator:hover label.sk-toggleable__label-arrow:before {color: black;}#sk-container-id-3 div.sk-toggleable__content {max-height: 0;max-width: 0;overflow: hidden;text-align: left;background-color: #f0f8ff;}#sk-container-id-3 div.sk-toggleable__content pre {margin: 0.2em;color: black;border-radius: 0.25em;background-color: #f0f8ff;}#sk-container-id-3 input.sk-toggleable__control:checked~div.sk-toggleable__content {max-height: 200px;max-width: 100%;overflow: auto;}#sk-container-id-3 input.sk-toggleable__control:checked~label.sk-toggleable__label-arrow:before {content: \"▾\";}#sk-container-id-3 div.sk-estimator input.sk-toggleable__control:checked~label.sk-toggleable__label {background-color: #d4ebff;}#sk-container-id-3 div.sk-label input.sk-toggleable__control:checked~label.sk-toggleable__label {background-color: #d4ebff;}#sk-container-id-3 input.sk-hidden--visually {border: 0;clip: rect(1px 1px 1px 1px);clip: rect(1px, 1px, 1px, 1px);height: 1px;margin: -1px;overflow: hidden;padding: 0;position: absolute;width: 1px;}#sk-container-id-3 div.sk-estimator {font-family: monospace;background-color: #f0f8ff;border: 1px dotted black;border-radius: 0.25em;box-sizing: border-box;margin-bottom: 0.5em;}#sk-container-id-3 div.sk-estimator:hover {background-color: #d4ebff;}#sk-container-id-3 div.sk-parallel-item::after {content: \"\";width: 100%;border-bottom: 1px solid gray;flex-grow: 1;}#sk-container-id-3 div.sk-label:hover label.sk-toggleable__label {background-color: #d4ebff;}#sk-container-id-3 div.sk-serial::before {content: \"\";position: absolute;border-left: 1px solid gray;box-sizing: border-box;top: 0;bottom: 0;left: 50%;z-index: 0;}#sk-container-id-3 div.sk-serial {display: flex;flex-direction: column;align-items: center;background-color: white;padding-right: 0.2em;padding-left: 0.2em;position: relative;}#sk-container-id-3 div.sk-item {position: relative;z-index: 1;}#sk-container-id-3 div.sk-parallel {display: flex;align-items: stretch;justify-content: center;background-color: white;position: relative;}#sk-container-id-3 div.sk-item::before, #sk-container-id-3 div.sk-parallel-item::before {content: \"\";position: absolute;border-left: 1px solid gray;box-sizing: border-box;top: 0;bottom: 0;left: 50%;z-index: -1;}#sk-container-id-3 div.sk-parallel-item {display: flex;flex-direction: column;z-index: 1;position: relative;background-color: white;}#sk-container-id-3 div.sk-parallel-item:first-child::after {align-self: flex-end;width: 50%;}#sk-container-id-3 div.sk-parallel-item:last-child::after {align-self: flex-start;width: 50%;}#sk-container-id-3 div.sk-parallel-item:only-child::after {width: 0;}#sk-container-id-3 div.sk-dashed-wrapped {border: 1px dashed gray;margin: 0 0.4em 0.5em 0.4em;box-sizing: border-box;padding-bottom: 0.4em;background-color: white;}#sk-container-id-3 div.sk-label label {font-family: monospace;font-weight: bold;display: inline-block;line-height: 1.2em;}#sk-container-id-3 div.sk-label-container {text-align: center;}#sk-container-id-3 div.sk-container {/* jupyter's `normalize.less` sets `[hidden] { display: none; }` but bootstrap.min.css set `[hidden] { display: none !important; }` so we also need the `!important` here to be able to override the default hidden behavior on the sphinx rendered scikit-learn.org. See: https://github.com/scikit-learn/scikit-learn/issues/21755 */display: inline-block !important;position: relative;}#sk-container-id-3 div.sk-text-repr-fallback {display: none;}</style><div id=\"sk-container-id-3\" class=\"sk-top-container\"><div class=\"sk-text-repr-fallback\"><pre>MLPClassifier(hidden_layer_sizes=(40, 40), random_state=1)</pre><b>In a Jupyter environment, please rerun this cell to show the HTML representation or trust the notebook. <br />On GitHub, the HTML representation is unable to render, please try loading this page with nbviewer.org.</b></div><div class=\"sk-container\" hidden><div class=\"sk-item\"><div class=\"sk-estimator sk-toggleable\"><input class=\"sk-toggleable__control sk-hidden--visually\" id=\"sk-estimator-id-7\" type=\"checkbox\" checked><label for=\"sk-estimator-id-7\" class=\"sk-toggleable__label sk-toggleable__label-arrow\">MLPClassifier</label><div class=\"sk-toggleable__content\"><pre>MLPClassifier(hidden_layer_sizes=(40, 40), random_state=1)</pre></div></div></div></div></div>"
            ]
          },
          "metadata": {},
          "execution_count": 26
        }
      ]
    },
    {
      "cell_type": "markdown",
      "source": [
        "**A.- ¿Observas alguna mejora importante al optimizar el tamaño de la red? ¿Es el resultado que esperabas? Argumenta tu respuesta.**\n",
        "\n",
        "Sí, se observa una mejora importante al optimizar el tamaño de la red. En el Paso 1, se utilizó un modelo MLP con 5 capas de 20 neuronas cada una, lo que da un total de 100 neuronas en la red.\n",
        "\n",
        "En el Paso 2, se encontraron los mejores hiperparámetros, que resultaron en una red con 2 capas ocultas, cada una con 40 neuronas, lo que da un total de 80 neuronas en la red. Esto representa una reducción en el número de neuronas en comparación con el modelo inicial.\n",
        "\n",
        "El resultado es el esperado en el sentido de que, en muchos casos, una red neuronal más grande no necesariamente conduce a un mejor rendimiento. En este caso, la reducción en el número de neuronas en la red condujo a un modelo más eficiente *(Princibio de Parsimonia).*"
      ],
      "metadata": {
        "id": "pgVx9_Ou88O1"
      }
    },
    {
      "cell_type": "markdown",
      "source": [
        "**¿Qué inconvenientes hay al encontrar el tamaño óptimo de la red? ¿Por qué?**\n",
        "\n",
        "Uno de los inconvenientes más notorios fue el tiempo de ejecución, ya que fue un poco más lento. Del mismo modo, puede ser costoso desde el punto de vista computacional, especialmente si se exploran muchas combinaciones de hiperparámetros, como el número de capas y neuronas. Por el hecho de que conlleva entrenar y evaluar múltiples modelos, lo que puede llevar tiempo y recursos.\n"
      ],
      "metadata": {
        "id": "YLSL8FT29qPe"
      }
    },
    {
      "cell_type": "markdown",
      "source": [
        "## Isai Ambrocio - A01625101"
      ],
      "metadata": {
        "id": "1SVT_V2E-Z4D"
      }
    }
  ]
}