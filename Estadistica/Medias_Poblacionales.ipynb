{
  "nbformat": 4,
  "nbformat_minor": 0,
  "metadata": {
    "colab": {
      "provenance": []
    },
    "kernelspec": {
      "name": "python3",
      "display_name": "Python 3"
    },
    "language_info": {
      "name": "python"
    }
  },
  "cells": [
    {
      "cell_type": "markdown",
      "source": [
        "# Actividades Medias Poblacionales\n",
        "## Isai Ambrocio - A01625101"
      ],
      "metadata": {
        "id": "vcyprTZVBW-M"
      }
    },
    {
      "cell_type": "markdown",
      "source": [
        "## Problema 1:\n",
        "\n",
        "Un científico de datos está analizando los niveles de sódio en dos lotes diferentes de un mismo producto. El científico quiere determinar si los niveles de sódio son iguales para ambos lotes, por lo tanto, recabó las siguientes dos muestras de datos\n",
        "\n",
        "Lote A -(número de muestras 15): Nivel de Sodio (mg) -> 180, 160, 170, 190, 200, 175, 185, 195, 180, 170, 190, 185, 200, 175, 165\n",
        "\n",
        "Lote B - (número de muestras 20): Nivel de Sodio (mg) -> 210, 215, 220, 225, 230, 215, 220, 225, 230, 235, 210, 215, 220, 225, 230, 215, 220, 225, 230, 23\n",
        "\n",
        "La varianza poblacional para el lote A es 57.05 y para el lote B  34.63. Con un nivel del confianza del 85% determina si ambos lotes tienen en promedio el mismo nivel de sódio."
      ],
      "metadata": {
        "id": "nw2qGeWEjgyd"
      }
    },
    {
      "cell_type": "code",
      "execution_count": 1,
      "metadata": {
        "id": "pQuvEJ0zjSs-"
      },
      "outputs": [],
      "source": [
        "import pandas as pd\n",
        "import numpy as np\n",
        "from scipy.stats import norm, t"
      ]
    },
    {
      "cell_type": "code",
      "source": [
        "lote_A = [180, 160, 170, 190, 200, 175, 185,\n",
        "           195, 180, 170, 190, 185, 200, 175, 165]\n",
        "\n",
        "lote_B = [210, 215, 220, 225, 230, 215, 220, 225, 230, 235,\n",
        "         210, 215, 220, 225, 230, 215, 220, 225, 230, 23]"
      ],
      "metadata": {
        "id": "_s03s2L5jqw8"
      },
      "execution_count": 5,
      "outputs": []
    },
    {
      "cell_type": "code",
      "source": [
        "df_A = pd.DataFrame({\"lote_A\": lote_A})\n",
        "df_B = pd.DataFrame({\"lote_B\": lote_B} )"
      ],
      "metadata": {
        "id": "NbUo-UK9lBaZ"
      },
      "execution_count": 6,
      "outputs": []
    },
    {
      "cell_type": "markdown",
      "source": [
        "Hipotesis Nula\n",
        " $$ H_0: \\mu_1 = \\mu_2$$\n",
        "\n",
        " Estadistico de prueba\n",
        " $$ Z = \\frac{\\overline{x} - \\overline{y} - (\\mu_1 - \\mu_2)}{\\sqrt{\\frac{\\sigma_1^2}{m}+\\frac{\\sigma_2^2}{n}}}$$\n"
      ],
      "metadata": {
        "id": "i8w08mH2siVa"
      }
    },
    {
      "cell_type": "markdown",
      "source": [
        " El estadistico de prueba tiene una distribución estándar."
      ],
      "metadata": {
        "id": "i2IQSrrrs1yg"
      }
    },
    {
      "cell_type": "code",
      "source": [
        "promedio_lote_A = df_A[\"lote_A\"].mean()\n",
        "promedio_lote_B = df_B[\"lote_B\"].mean()\n",
        "\n",
        "nivel_confianza = 0.85\n",
        "\n",
        "sigma_A = 57.05\n",
        "sigma_B = 34.63\n",
        "\n",
        "m = 15\n",
        "n = 20"
      ],
      "metadata": {
        "id": "10RPev0gnCbm"
      },
      "execution_count": 10,
      "outputs": []
    },
    {
      "cell_type": "code",
      "source": [
        "Z = (promedio_lote_A - promedio_lote_B) / np.sqrt((sigma_A / m) + (sigma_B / n))\n",
        "Z"
      ],
      "metadata": {
        "colab": {
          "base_uri": "https://localhost:8080/"
        },
        "id": "8vJcIXQzmRD-",
        "outputId": "6340dbee-8d13-414b-b0ca-86bc7403225c"
      },
      "execution_count": 11,
      "outputs": [
        {
          "output_type": "execute_result",
          "data": {
            "text/plain": [
              "-12.9925921892129"
            ]
          },
          "metadata": {},
          "execution_count": 11
        }
      ]
    },
    {
      "cell_type": "code",
      "source": [
        "valor_critico = norm.ppf(1 - (1 - nivel_confianza) / 2)\n",
        "\n",
        "resultado_hipotesis = \"Se rechaza la hipótesis nula\" if Z < -valor_critico or Z > valor_critico else \"No se rechaza la hipótesis nula\"\n",
        "print(f\"Valor Z: {Z:.3f}\" + f\"\\nValor crítico: {valor_critico:.3f}\" + \"\\n\" + resultado_hipotesis)"
      ],
      "metadata": {
        "colab": {
          "base_uri": "https://localhost:8080/"
        },
        "id": "fqBi8oXfnlvb",
        "outputId": "b78ed3b9-c8de-4b56-96bb-a636583482a7"
      },
      "execution_count": 21,
      "outputs": [
        {
          "output_type": "stream",
          "name": "stdout",
          "text": [
            "Valor Z: -12.993\n",
            "Valor crítico: 1.440\n",
            "Se rechaza la hipótesis nula\n"
          ]
        }
      ]
    },
    {
      "cell_type": "markdown",
      "source": [
        "## Problema 4:\n",
        "Se han tomado dos muestras del número de días que tardan los egresados de las universidades A y B en encontrar trabajo\n",
        "Universidad A: -> 180, 200, 190, 210, 175, 185, 195, 180, 205, 190, 200, 185, 210, 175, 195\n",
        "Universidad B: -> 210, 215, 220, 225, 230, 215, 220, 225, 230, 235, 210, 215, 220, 225, 230, 235\n",
        "\n",
        "Utilizando un nivel de confianza del 95%, determina si hay evidencia estadística suficiente para concluir que existe una diferencia significativa en el tiempo promedio de busqueda de empleo entre ambas universidades.\n",
        "\n",
        "* Utiliza la distribución t-student\n",
        "\n",
        "* Entrega: Entrega tu actividad en canvas mostrando todo el procedimiento necesario para dar respuesta a los ejercicios planteados."
      ],
      "metadata": {
        "id": "eRRVCRJDs9yr"
      }
    },
    {
      "cell_type": "code",
      "source": [
        "Universidad_A = np.array([180, 200, 190, 210, 175, 185, 195,\n",
        "                          180, 205, 190, 200, 185, 210, 175, 195])\n",
        "\n",
        "Universidad_B = np.array([210, 215, 220, 225, 230, 215, 220, 225,\n",
        "                          230, 235, 210, 215, 220, 225, 230, 235])"
      ],
      "metadata": {
        "id": "TKJIzvoxoK-t"
      },
      "execution_count": 22,
      "outputs": []
    },
    {
      "cell_type": "code",
      "source": [
        "nivel_confianza_2 = 0.95\n",
        "\n",
        "media_uni_A = np.mean(Universidad_A)\n",
        "media_uni_B = np.mean(Universidad_B)"
      ],
      "metadata": {
        "id": "rus5Pw3wtwiv"
      },
      "execution_count": 25,
      "outputs": []
    },
    {
      "cell_type": "code",
      "source": [
        "desviacion_std_A = np.std(Universidad_A, ddof=1)\n",
        "desviacion_std_B = np.std(Universidad_B, ddof=1)"
      ],
      "metadata": {
        "id": "CFC4NUlm-xQ3"
      },
      "execution_count": 26,
      "outputs": []
    },
    {
      "cell_type": "code",
      "source": [
        "print(f\"Media A: {media_uni_A} \\nMedia B: {media_uni_B}\")\n",
        "print(f\"\\nDesviación estandar A: {desviacion_std_A} \\nDesviación estandar B: {desviacion_std_A}\")"
      ],
      "metadata": {
        "colab": {
          "base_uri": "https://localhost:8080/"
        },
        "id": "AKjHsjED89PG",
        "outputId": "6048c0e9-e6ef-4edc-b9b3-475cd0161424"
      },
      "execution_count": 28,
      "outputs": [
        {
          "output_type": "stream",
          "name": "stdout",
          "text": [
            "Media A: 191.66666666666666 \n",
            "Media B: 222.5\n",
            "\n",
            "Desviación estandar A: 11.751393027860065 \n",
            "Desviación estandar B: 11.751393027860065\n"
          ]
        }
      ]
    },
    {
      "cell_type": "code",
      "source": [
        "diferencia_error_est = np.sqrt((desviacion_std_A ** 2 / len(Universidad_A)) + (desviacion_std_B ** 2 / len(Universidad_B)))\n",
        "diferencia_error_est"
      ],
      "metadata": {
        "colab": {
          "base_uri": "https://localhost:8080/"
        },
        "id": "KHMBeUq--1ae",
        "outputId": "af35dbd5-9120-4527-aae3-8c9362328a49"
      },
      "execution_count": 29,
      "outputs": [
        {
          "output_type": "execute_result",
          "data": {
            "text/plain": [
              "3.656913435264209"
            ]
          },
          "metadata": {},
          "execution_count": 29
        }
      ]
    },
    {
      "cell_type": "code",
      "source": [
        "valor_t = (media_uni_A - media_uni_B) / diferencia_error_est\n",
        "grad_lib = len(Universidad_A) + len(Universidad_B)\n",
        "t_critico = t.ppf(1 - (1 - nivel_confianza_2) / 2, grad_lib)"
      ],
      "metadata": {
        "id": "1XetkyOo_N9x"
      },
      "execution_count": 30,
      "outputs": []
    },
    {
      "cell_type": "code",
      "source": [
        "resultado_hipotesis_2 = \"Rechazamos la hipótesis nula\" if valor_t < -t_critico or valor_t > t_critico else \"No rechazamos la hipótesis nula\"\n",
        "print(f\"Valor t: {valor_t} \\nValor crítico: {t_critico} \\n{resultado_hipotesis_2}\")"
      ],
      "metadata": {
        "colab": {
          "base_uri": "https://localhost:8080/"
        },
        "id": "JeZa-LWYAjKy",
        "outputId": "59977e33-a254-4d3d-b8fb-437ac4eb402b"
      },
      "execution_count": 34,
      "outputs": [
        {
          "output_type": "stream",
          "name": "stdout",
          "text": [
            "Valor t: -8.431518513947449 \n",
            "Valor crítico: 2.0395134463964077 \n",
            "Rechazamos la hipótesis nula\n"
          ]
        }
      ]
    },
    {
      "cell_type": "markdown",
      "source": [
        "## Isai Ambrocio - A01625101"
      ],
      "metadata": {
        "id": "Kf6B1IIuBnn6"
      }
    }
  ]
}