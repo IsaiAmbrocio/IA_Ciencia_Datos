{
 "cells": [
  {
   "cell_type": "markdown",
   "id": "7c1dfcf9-a020-458e-bd3d-27f5ed73e594",
   "metadata": {},
   "source": [
    "# Actividad intervalos de confianza\n",
    "## Isai Ambrocio - A01625101"
   ]
  },
  {
   "cell_type": "markdown",
   "id": "02a04e41-07ff-4957-942a-3867568fa72f",
   "metadata": {},
   "source": [
    "Librerias"
   ]
  },
  {
   "cell_type": "code",
   "execution_count": 22,
   "id": "f9bc46fb-59b7-498d-b7b1-11fbe455185b",
   "metadata": {},
   "outputs": [],
   "source": [
    "from math import sqrt"
   ]
  },
  {
   "cell_type": "markdown",
   "id": "d1e43528-e0d1-4b05-b66a-18b9256d7d19",
   "metadata": {},
   "source": [
    " ### Teorema del limite central $$ \\frac{\\bar{X} - \\mu} {\\frac {\\sigma}{\\sqrt{n}}} \\sim N (0, 1)$$"
   ]
  },
  {
   "cell_type": "markdown",
   "id": "52a1aad6-2241-454a-b29f-76d81179fcdc",
   "metadata": {},
   "source": [
    "**Problema 1:**\n",
    "\n",
    "**Un estudio de calidad se está realizando para evaluar el diámetro promedio de tuercas producidas por una fábrica. Se toma una muestra aleatoria de 75 tuercas y se encuentra que el diámetro promedio en la muestra es de 8.5 mm, con una desviación estándar muestral de 0.3 mm. Calcular un intervalo de confianza del 80% para la media real del diámetro de las tuercas producidas.**"
   ]
  },
  {
   "cell_type": "markdown",
   "id": "e2436dde-9381-4031-9f80-4f0ce635f3f7",
   "metadata": {},
   "source": [
    "Valores de las constantes."
   ]
  },
  {
   "cell_type": "code",
   "execution_count": 23,
   "id": "0ed609d8-f24d-495d-841b-aadeadf6a787",
   "metadata": {},
   "outputs": [],
   "source": [
    "n = 75 # Tuercas\n",
    "miu_hat = 8.5 # Promedio de la muestra.\n",
    "desv_muestral = 0.3 # Milimetros."
   ]
  },
  {
   "cell_type": "markdown",
   "id": "ede382c1-3a57-444a-8bae-c3302f1e8939",
   "metadata": {},
   "source": [
    "Como el valor de confianza es del 80% los valores de $a_0$ y de $a_1$ quedarian de -1.29 y 1.29 respectivamente."
   ]
  },
  {
   "cell_type": "code",
   "execution_count": 24,
   "id": "2a33b421-9bd8-49fe-9378-aaadd9139ef0",
   "metadata": {},
   "outputs": [],
   "source": [
    "a_0 = -1.29\n",
    "a_1 = 1.29"
   ]
  },
  {
   "cell_type": "code",
   "execution_count": 25,
   "id": "7f00b939-50fc-4d85-9d79-254bc5bd9888",
   "metadata": {},
   "outputs": [
    {
     "data": {
      "text/plain": [
       "8.455313089164722"
      ]
     },
     "execution_count": 25,
     "metadata": {},
     "output_type": "execute_result"
    }
   ],
   "source": [
    "limite_inferior = a_0 * (desv_muestral/sqrt(n)) + miu_hat\n",
    "limite_inferior"
   ]
  },
  {
   "cell_type": "code",
   "execution_count": 26,
   "id": "6f439ca1-5df3-4544-80db-e24e2325d195",
   "metadata": {},
   "outputs": [
    {
     "data": {
      "text/plain": [
       "8.544686910835278"
      ]
     },
     "execution_count": 26,
     "metadata": {},
     "output_type": "execute_result"
    }
   ],
   "source": [
    "limite_superior = a_1 * (desv_muestral/sqrt(n)) + miu_hat\n",
    "limite_superior"
   ]
  },
  {
   "cell_type": "markdown",
   "id": "5985e2f2-3a73-4c16-831a-932f86e5c4b0",
   "metadata": {},
   "source": [
    "**Problema 2:**\n",
    "\n",
    "**Un investigador está estudiando la cantidad de tiempo que los conductores pasan en el tráfico durante las horas pico. Se toma una muestra aleatoria de 200 conductores y se encuentra que el tiempo promedio en la muestra es de 45 minutos, con una desviación estándar muestral de 10 minutos. Calcular un intervalo de confianza del 85% para la media real del tiempo que los conductores pasan en el tráfico.**"
   ]
  },
  {
   "cell_type": "markdown",
   "id": "3db95f5f-e3a0-4793-9ba3-e4f42f5a2c46",
   "metadata": {},
   "source": [
    "Valores de los datos."
   ]
  },
  {
   "cell_type": "code",
   "execution_count": 27,
   "id": "1d0af764-80e6-4b3c-8e95-b2ea7de41067",
   "metadata": {},
   "outputs": [],
   "source": [
    "n_p2 = 200 # Conductores\n",
    "miu_hat_p2 = 45 # Promedio de la muestra(minutos).\n",
    "desv_muestral_p2 = 10 # Minutos."
   ]
  },
  {
   "cell_type": "code",
   "execution_count": 28,
   "id": "4a17f0e8-0504-473a-a189-0778bb52510b",
   "metadata": {},
   "outputs": [],
   "source": [
    "a_0_p2 = -1.45\n",
    "a_1_p2 = 1.45"
   ]
  },
  {
   "cell_type": "code",
   "execution_count": 29,
   "id": "fc029990-d4fa-4e78-91eb-cb4c9f6e49ea",
   "metadata": {},
   "outputs": [
    {
     "data": {
      "text/plain": [
       "43.974695167279506"
      ]
     },
     "execution_count": 29,
     "metadata": {},
     "output_type": "execute_result"
    }
   ],
   "source": [
    "limite_inferior_p2 = a_0_p2 * (desv_muestral_p2/sqrt(n_p2)) + miu_hat_p2\n",
    "limite_inferior_p2"
   ]
  },
  {
   "cell_type": "code",
   "execution_count": 30,
   "id": "c6899373-f582-4b79-ae83-1e574d005072",
   "metadata": {},
   "outputs": [
    {
     "data": {
      "text/plain": [
       "46.025304832720494"
      ]
     },
     "execution_count": 30,
     "metadata": {},
     "output_type": "execute_result"
    }
   ],
   "source": [
    "limite_superior_p2 = a_1_p2 * (desv_muestral_p2/sqrt(n_p2)) + miu_hat_p2\n",
    "limite_superior_p2"
   ]
  },
  {
   "cell_type": "markdown",
   "id": "ab795483-a8f1-4d7f-a7cb-ef0d10b4e826",
   "metadata": {},
   "source": [
    "**Problema 3:**\n",
    "\n",
    "**Determina cuantas muestras se deben tener para los problemas 1 y 2 si se desea que el ancho del intervalo de confianza sea 1.5.**\n",
    "\n"
   ]
  },
  {
   "cell_type": "markdown",
   "id": "dec41c88-fe49-4c5f-8b95-27d6622be3dd",
   "metadata": {},
   "source": [
    "Para el problema 1 sería: $$ 1.5 = 2V_c (\\frac {\\sigma}{\\sqrt{n}}) $$"
   ]
  },
  {
   "cell_type": "markdown",
   "id": "976c6398-c1ae-4242-9e62-8ed79942e155",
   "metadata": {},
   "source": [
    "$$\\frac{1.5}{2} = V_c (\\frac {\\sigma}{\\sqrt{n}})$$"
   ]
  },
  {
   "cell_type": "markdown",
   "id": "6aeb111c-7382-41a7-8d41-0810c4012923",
   "metadata": {},
   "source": [
    "$$\\frac{3}{4 V_c} = \\frac{\\sigma}{\\sqrt{n}}$$"
   ]
  },
  {
   "cell_type": "markdown",
   "id": "5b6498f2-519e-4fd3-b1fd-e7c46541723b",
   "metadata": {},
   "source": [
    "$$ n = (\\frac { 4 V_c \\sigma}{3}) ^2 $$"
   ]
  },
  {
   "cell_type": "markdown",
   "id": "f0199f2e-2039-4b19-b14f-4ce15ec90968",
   "metadata": {},
   "source": [
    "$$ n = (\\frac { 4 (1.29) (0.3)}{3}) ^2 = 0.267 $$"
   ]
  },
  {
   "cell_type": "markdown",
   "id": "97e4abf1-a9e4-4847-bcaa-757d60fbbdf2",
   "metadata": {},
   "source": [
    "Para el problema 2 sería:$$ 1.5 = 2V_c (\\frac {\\sigma}{\\sqrt{n}}) $$"
   ]
  },
  {
   "cell_type": "markdown",
   "id": "663cc351-42a4-4e12-bfcb-e9e18ff75012",
   "metadata": {},
   "source": [
    "$$\\frac{1.5}{2} = V_c (\\frac {\\sigma}{\\sqrt{n}})$$"
   ]
  },
  {
   "cell_type": "markdown",
   "id": "5d4ca118-7d66-46a2-9991-5538509e7e7a",
   "metadata": {},
   "source": [
    "$$\\frac{3}{4 V_c} = \\frac{\\sigma}{\\sqrt{n}}$$"
   ]
  },
  {
   "cell_type": "markdown",
   "id": "1e556e48-783f-4476-bb2f-f6a94c1b0422",
   "metadata": {},
   "source": [
    "$$ n = (\\frac { 4 V_c \\sigma}{3}) ^2 $$"
   ]
  },
  {
   "cell_type": "markdown",
   "id": "d5409d55-f190-4a5b-ba45-5906f7550f25",
   "metadata": {},
   "source": [
    "$$ n = (\\frac { 4 (1.45) (10)}{3}) ^ 2 = 373.\\bar{7} $$"
   ]
  }
 ],
 "metadata": {
  "kernelspec": {
   "display_name": "Python 3 (ipykernel)",
   "language": "python",
   "name": "python3"
  },
  "language_info": {
   "codemirror_mode": {
    "name": "ipython",
    "version": 3
   },
   "file_extension": ".py",
   "mimetype": "text/x-python",
   "name": "python",
   "nbconvert_exporter": "python",
   "pygments_lexer": "ipython3",
   "version": "3.11.4"
  }
 },
 "nbformat": 4,
 "nbformat_minor": 5
}
